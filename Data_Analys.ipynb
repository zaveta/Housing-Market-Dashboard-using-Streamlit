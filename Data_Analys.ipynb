{
 "cells": [
  {
   "cell_type": "code",
   "execution_count": 6,
   "metadata": {
    "ExecuteTime": {
     "end_time": "2021-05-07T22:44:43.205786Z",
     "start_time": "2021-05-07T22:44:43.187467Z"
    }
   },
   "outputs": [],
   "source": [
    "import pandas as pd\n",
    "import numpy as np\n",
    "\n",
    "import matplotlib.pyplot as plt\n",
    "import seaborn as sns\n",
    "%matplotlib inline"
   ]
  },
  {
   "cell_type": "code",
   "execution_count": 8,
   "metadata": {
    "ExecuteTime": {
     "end_time": "2021-05-07T23:15:52.245444Z",
     "start_time": "2021-05-07T23:15:52.139622Z"
    }
   },
   "outputs": [],
   "source": [
    "from sqlalchemy import create_engine\n",
    "from sqlalchemy.types import Integer, Text, String, DateTime, Float\n",
    "\n",
    "database_filepath = './Monthly_Stat_Reports.db'\n",
    "engine = create_engine('sqlite:///{}'.format(database_filepath))\n",
    "\n",
    "sqlite_connection = engine.connect()"
   ]
  },
  {
   "cell_type": "code",
   "execution_count": 30,
   "metadata": {
    "ExecuteTime": {
     "end_time": "2021-05-10T23:33:21.643588Z",
     "start_time": "2021-05-10T23:33:21.059747Z"
    }
   },
   "outputs": [],
   "source": [
    "table_name = 'Monthly_Stat_Reports_Cities'\n",
    "df.to_sql(\n",
    "    table_name,\n",
    "    engine,\n",
    "    if_exists='replace',\n",
    "    index=False,\n",
    "    #dtype=dtypes,\n",
    "    chunksize=500\n",
    ")"
   ]
  },
  {
   "cell_type": "code",
   "execution_count": 31,
   "metadata": {
    "ExecuteTime": {
     "end_time": "2021-05-10T23:33:23.334022Z",
     "start_time": "2021-05-10T23:33:23.223806Z"
    }
   },
   "outputs": [
    {
     "data": {
      "text/html": [
       "<div>\n",
       "<style scoped>\n",
       "    .dataframe tbody tr th:only-of-type {\n",
       "        vertical-align: middle;\n",
       "    }\n",
       "\n",
       "    .dataframe tbody tr th {\n",
       "        vertical-align: top;\n",
       "    }\n",
       "\n",
       "    .dataframe thead th {\n",
       "        text-align: right;\n",
       "    }\n",
       "</style>\n",
       "<table border=\"1\" class=\"dataframe\">\n",
       "  <thead>\n",
       "    <tr style=\"text-align: right;\">\n",
       "      <th></th>\n",
       "      <th>City</th>\n",
       "      <th>Townhouse-Condo Attached</th>\n",
       "      <th>Single-Family Detached</th>\n",
       "      <th>New Listings</th>\n",
       "      <th>Pending Sales</th>\n",
       "      <th>Closed Sales</th>\n",
       "      <th>Days on Market Until Sale</th>\n",
       "      <th>Median Sales Price</th>\n",
       "      <th>Average Sales Price</th>\n",
       "      <th>Percent of Original List Price Received</th>\n",
       "      <th>Inventory of Homes for Sale</th>\n",
       "      <th>Year</th>\n",
       "      <th>Month num</th>\n",
       "      <th>Month</th>\n",
       "    </tr>\n",
       "  </thead>\n",
       "  <tbody>\n",
       "    <tr>\n",
       "      <th>0</th>\n",
       "      <td>Alamo</td>\n",
       "      <td>0</td>\n",
       "      <td>1</td>\n",
       "      <td>23.0</td>\n",
       "      <td>NaN</td>\n",
       "      <td>11.0</td>\n",
       "      <td>44</td>\n",
       "      <td>2135000</td>\n",
       "      <td>2369636</td>\n",
       "      <td>97.56</td>\n",
       "      <td>19</td>\n",
       "      <td>2021</td>\n",
       "      <td>1</td>\n",
       "      <td>January</td>\n",
       "    </tr>\n",
       "    <tr>\n",
       "      <th>1</th>\n",
       "      <td>Alamo</td>\n",
       "      <td>1</td>\n",
       "      <td>0</td>\n",
       "      <td>NaN</td>\n",
       "      <td>NaN</td>\n",
       "      <td>2.0</td>\n",
       "      <td>50</td>\n",
       "      <td>826500</td>\n",
       "      <td>826500</td>\n",
       "      <td>98.77</td>\n",
       "      <td>0</td>\n",
       "      <td>2021</td>\n",
       "      <td>1</td>\n",
       "      <td>January</td>\n",
       "    </tr>\n",
       "    <tr>\n",
       "      <th>2</th>\n",
       "      <td>Blackhawk</td>\n",
       "      <td>0</td>\n",
       "      <td>1</td>\n",
       "      <td>10.0</td>\n",
       "      <td>NaN</td>\n",
       "      <td>9.0</td>\n",
       "      <td>64</td>\n",
       "      <td>2700000</td>\n",
       "      <td>2813144</td>\n",
       "      <td>97.86</td>\n",
       "      <td>13</td>\n",
       "      <td>2021</td>\n",
       "      <td>1</td>\n",
       "      <td>January</td>\n",
       "    </tr>\n",
       "    <tr>\n",
       "      <th>3</th>\n",
       "      <td>Blackhawk</td>\n",
       "      <td>1</td>\n",
       "      <td>0</td>\n",
       "      <td>1.0</td>\n",
       "      <td>NaN</td>\n",
       "      <td>NaN</td>\n",
       "      <td>0</td>\n",
       "      <td>0</td>\n",
       "      <td>0</td>\n",
       "      <td>0.00</td>\n",
       "      <td>0</td>\n",
       "      <td>2021</td>\n",
       "      <td>1</td>\n",
       "      <td>January</td>\n",
       "    </tr>\n",
       "    <tr>\n",
       "      <th>4</th>\n",
       "      <td>Clayton</td>\n",
       "      <td>0</td>\n",
       "      <td>1</td>\n",
       "      <td>11.0</td>\n",
       "      <td>NaN</td>\n",
       "      <td>9.0</td>\n",
       "      <td>13</td>\n",
       "      <td>1028300</td>\n",
       "      <td>1005356</td>\n",
       "      <td>101.97</td>\n",
       "      <td>7</td>\n",
       "      <td>2021</td>\n",
       "      <td>1</td>\n",
       "      <td>January</td>\n",
       "    </tr>\n",
       "    <tr>\n",
       "      <th>...</th>\n",
       "      <td>...</td>\n",
       "      <td>...</td>\n",
       "      <td>...</td>\n",
       "      <td>...</td>\n",
       "      <td>...</td>\n",
       "      <td>...</td>\n",
       "      <td>...</td>\n",
       "      <td>...</td>\n",
       "      <td>...</td>\n",
       "      <td>...</td>\n",
       "      <td>...</td>\n",
       "      <td>...</td>\n",
       "      <td>...</td>\n",
       "      <td>...</td>\n",
       "    </tr>\n",
       "    <tr>\n",
       "      <th>8851</th>\n",
       "      <td>Richmond Annex</td>\n",
       "      <td>1</td>\n",
       "      <td>0</td>\n",
       "      <td>NaN</td>\n",
       "      <td>NaN</td>\n",
       "      <td>1.0</td>\n",
       "      <td>4</td>\n",
       "      <td>330000</td>\n",
       "      <td>330000</td>\n",
       "      <td>100.00</td>\n",
       "      <td>0</td>\n",
       "      <td>2020</td>\n",
       "      <td>12</td>\n",
       "      <td>December</td>\n",
       "    </tr>\n",
       "    <tr>\n",
       "      <th>8852</th>\n",
       "      <td>Richmond Country_Club</td>\n",
       "      <td>0</td>\n",
       "      <td>1</td>\n",
       "      <td>5.0</td>\n",
       "      <td>5.0</td>\n",
       "      <td>7.0</td>\n",
       "      <td>8</td>\n",
       "      <td>836000</td>\n",
       "      <td>821000</td>\n",
       "      <td>102.46</td>\n",
       "      <td>1</td>\n",
       "      <td>2020</td>\n",
       "      <td>12</td>\n",
       "      <td>December</td>\n",
       "    </tr>\n",
       "    <tr>\n",
       "      <th>8853</th>\n",
       "      <td>Richmond Country_Club</td>\n",
       "      <td>1</td>\n",
       "      <td>0</td>\n",
       "      <td>NaN</td>\n",
       "      <td>NaN</td>\n",
       "      <td>NaN</td>\n",
       "      <td>0</td>\n",
       "      <td>0</td>\n",
       "      <td>0</td>\n",
       "      <td>0.00</td>\n",
       "      <td>0</td>\n",
       "      <td>2020</td>\n",
       "      <td>12</td>\n",
       "      <td>December</td>\n",
       "    </tr>\n",
       "    <tr>\n",
       "      <th>8854</th>\n",
       "      <td>El Cerrito</td>\n",
       "      <td>0</td>\n",
       "      <td>1</td>\n",
       "      <td>12.0</td>\n",
       "      <td>10.0</td>\n",
       "      <td>16.0</td>\n",
       "      <td>10</td>\n",
       "      <td>1267500</td>\n",
       "      <td>1213938</td>\n",
       "      <td>124.19</td>\n",
       "      <td>8</td>\n",
       "      <td>2020</td>\n",
       "      <td>12</td>\n",
       "      <td>December</td>\n",
       "    </tr>\n",
       "    <tr>\n",
       "      <th>8855</th>\n",
       "      <td>El Cerrito</td>\n",
       "      <td>1</td>\n",
       "      <td>0</td>\n",
       "      <td>1.0</td>\n",
       "      <td>1.0</td>\n",
       "      <td>2.0</td>\n",
       "      <td>4</td>\n",
       "      <td>696500</td>\n",
       "      <td>696500</td>\n",
       "      <td>103.87</td>\n",
       "      <td>6</td>\n",
       "      <td>2020</td>\n",
       "      <td>12</td>\n",
       "      <td>December</td>\n",
       "    </tr>\n",
       "  </tbody>\n",
       "</table>\n",
       "<p>8856 rows × 14 columns</p>\n",
       "</div>"
      ],
      "text/plain": [
       "                       City  Townhouse-Condo Attached  Single-Family Detached  \\\n",
       "0                     Alamo                         0                       1   \n",
       "1                     Alamo                         1                       0   \n",
       "2                 Blackhawk                         0                       1   \n",
       "3                 Blackhawk                         1                       0   \n",
       "4                   Clayton                         0                       1   \n",
       "...                     ...                       ...                     ...   \n",
       "8851         Richmond Annex                         1                       0   \n",
       "8852  Richmond Country_Club                         0                       1   \n",
       "8853  Richmond Country_Club                         1                       0   \n",
       "8854             El Cerrito                         0                       1   \n",
       "8855             El Cerrito                         1                       0   \n",
       "\n",
       "      New Listings  Pending Sales  Closed Sales  Days on Market Until Sale  \\\n",
       "0             23.0            NaN          11.0                         44   \n",
       "1              NaN            NaN           2.0                         50   \n",
       "2             10.0            NaN           9.0                         64   \n",
       "3              1.0            NaN           NaN                          0   \n",
       "4             11.0            NaN           9.0                         13   \n",
       "...            ...            ...           ...                        ...   \n",
       "8851           NaN            NaN           1.0                          4   \n",
       "8852           5.0            5.0           7.0                          8   \n",
       "8853           NaN            NaN           NaN                          0   \n",
       "8854          12.0           10.0          16.0                         10   \n",
       "8855           1.0            1.0           2.0                          4   \n",
       "\n",
       "      Median Sales Price  Average Sales Price  \\\n",
       "0                2135000              2369636   \n",
       "1                 826500               826500   \n",
       "2                2700000              2813144   \n",
       "3                      0                    0   \n",
       "4                1028300              1005356   \n",
       "...                  ...                  ...   \n",
       "8851              330000               330000   \n",
       "8852              836000               821000   \n",
       "8853                   0                    0   \n",
       "8854             1267500              1213938   \n",
       "8855              696500               696500   \n",
       "\n",
       "      Percent of Original List Price Received  Inventory of Homes for Sale  \\\n",
       "0                                       97.56                           19   \n",
       "1                                       98.77                            0   \n",
       "2                                       97.86                           13   \n",
       "3                                        0.00                            0   \n",
       "4                                      101.97                            7   \n",
       "...                                       ...                          ...   \n",
       "8851                                   100.00                            0   \n",
       "8852                                   102.46                            1   \n",
       "8853                                     0.00                            0   \n",
       "8854                                   124.19                            8   \n",
       "8855                                   103.87                            6   \n",
       "\n",
       "      Year  Month num     Month  \n",
       "0     2021          1   January  \n",
       "1     2021          1   January  \n",
       "2     2021          1   January  \n",
       "3     2021          1   January  \n",
       "4     2021          1   January  \n",
       "...    ...        ...       ...  \n",
       "8851  2020         12  December  \n",
       "8852  2020         12  December  \n",
       "8853  2020         12  December  \n",
       "8854  2020         12  December  \n",
       "8855  2020         12  December  \n",
       "\n",
       "[8856 rows x 14 columns]"
      ]
     },
     "execution_count": 31,
     "metadata": {},
     "output_type": "execute_result"
    }
   ],
   "source": [
    "pd.read_sql_query('''\n",
    "                  SELECT * FROM Monthly_Stat_Reports_Cities\n",
    "                  ''', engine)"
   ]
  },
  {
   "cell_type": "code",
   "execution_count": 7,
   "metadata": {
    "ExecuteTime": {
     "end_time": "2021-05-07T22:44:48.138255Z",
     "start_time": "2021-05-07T22:44:48.091395Z"
    }
   },
   "outputs": [
    {
     "data": {
      "text/html": [
       "<div>\n",
       "<style scoped>\n",
       "    .dataframe tbody tr th:only-of-type {\n",
       "        vertical-align: middle;\n",
       "    }\n",
       "\n",
       "    .dataframe tbody tr th {\n",
       "        vertical-align: top;\n",
       "    }\n",
       "\n",
       "    .dataframe thead th {\n",
       "        text-align: right;\n",
       "    }\n",
       "</style>\n",
       "<table border=\"1\" class=\"dataframe\">\n",
       "  <thead>\n",
       "    <tr style=\"text-align: right;\">\n",
       "      <th></th>\n",
       "      <th>City</th>\n",
       "      <th>Townhouse-Condo Attached</th>\n",
       "      <th>Single-Family Detached</th>\n",
       "      <th>New Listings</th>\n",
       "      <th>Pending Sales</th>\n",
       "      <th>Closed Sales</th>\n",
       "      <th>Days on Market Until Sale</th>\n",
       "      <th>Median Sales Price</th>\n",
       "      <th>Average Sales Price</th>\n",
       "      <th>Percent of Original List Price Received</th>\n",
       "      <th>Inventory of Homes for Sale</th>\n",
       "      <th>Year</th>\n",
       "      <th>Month</th>\n",
       "    </tr>\n",
       "  </thead>\n",
       "  <tbody>\n",
       "    <tr>\n",
       "      <th>0</th>\n",
       "      <td>Alamo</td>\n",
       "      <td>0</td>\n",
       "      <td>1</td>\n",
       "      <td>23.0</td>\n",
       "      <td>NaN</td>\n",
       "      <td>11.0</td>\n",
       "      <td>44</td>\n",
       "      <td>2135000</td>\n",
       "      <td>2369636</td>\n",
       "      <td>97.56</td>\n",
       "      <td>19</td>\n",
       "      <td>2021</td>\n",
       "      <td>1</td>\n",
       "    </tr>\n",
       "    <tr>\n",
       "      <th>1</th>\n",
       "      <td>Alamo</td>\n",
       "      <td>1</td>\n",
       "      <td>0</td>\n",
       "      <td>NaN</td>\n",
       "      <td>NaN</td>\n",
       "      <td>2.0</td>\n",
       "      <td>50</td>\n",
       "      <td>826500</td>\n",
       "      <td>826500</td>\n",
       "      <td>98.77</td>\n",
       "      <td>0</td>\n",
       "      <td>2021</td>\n",
       "      <td>1</td>\n",
       "    </tr>\n",
       "    <tr>\n",
       "      <th>2</th>\n",
       "      <td>Blackhawk</td>\n",
       "      <td>0</td>\n",
       "      <td>1</td>\n",
       "      <td>10.0</td>\n",
       "      <td>NaN</td>\n",
       "      <td>9.0</td>\n",
       "      <td>64</td>\n",
       "      <td>2700000</td>\n",
       "      <td>2813144</td>\n",
       "      <td>97.86</td>\n",
       "      <td>13</td>\n",
       "      <td>2021</td>\n",
       "      <td>1</td>\n",
       "    </tr>\n",
       "    <tr>\n",
       "      <th>3</th>\n",
       "      <td>Blackhawk</td>\n",
       "      <td>1</td>\n",
       "      <td>0</td>\n",
       "      <td>1.0</td>\n",
       "      <td>NaN</td>\n",
       "      <td>NaN</td>\n",
       "      <td>0</td>\n",
       "      <td>0</td>\n",
       "      <td>0</td>\n",
       "      <td>0.00</td>\n",
       "      <td>0</td>\n",
       "      <td>2021</td>\n",
       "      <td>1</td>\n",
       "    </tr>\n",
       "    <tr>\n",
       "      <th>4</th>\n",
       "      <td>Clayton</td>\n",
       "      <td>0</td>\n",
       "      <td>1</td>\n",
       "      <td>11.0</td>\n",
       "      <td>NaN</td>\n",
       "      <td>9.0</td>\n",
       "      <td>13</td>\n",
       "      <td>1028300</td>\n",
       "      <td>1005356</td>\n",
       "      <td>101.97</td>\n",
       "      <td>7</td>\n",
       "      <td>2021</td>\n",
       "      <td>1</td>\n",
       "    </tr>\n",
       "  </tbody>\n",
       "</table>\n",
       "</div>"
      ],
      "text/plain": [
       "        City  Townhouse-Condo Attached  Single-Family Detached  New Listings  \\\n",
       "0      Alamo                         0                       1          23.0   \n",
       "1      Alamo                         1                       0           NaN   \n",
       "2  Blackhawk                         0                       1          10.0   \n",
       "3  Blackhawk                         1                       0           1.0   \n",
       "4    Clayton                         0                       1          11.0   \n",
       "\n",
       "   Pending Sales  Closed Sales  Days on Market Until Sale  Median Sales Price  \\\n",
       "0            NaN          11.0                         44             2135000   \n",
       "1            NaN           2.0                         50              826500   \n",
       "2            NaN           9.0                         64             2700000   \n",
       "3            NaN           NaN                          0                   0   \n",
       "4            NaN           9.0                         13             1028300   \n",
       "\n",
       "   Average Sales Price  Percent of Original List Price Received  \\\n",
       "0              2369636                                    97.56   \n",
       "1               826500                                    98.77   \n",
       "2              2813144                                    97.86   \n",
       "3                    0                                     0.00   \n",
       "4              1005356                                   101.97   \n",
       "\n",
       "   Inventory of Homes for Sale  Year  Month  \n",
       "0                           19  2021      1  \n",
       "1                            0  2021      1  \n",
       "2                           13  2021      1  \n",
       "3                            0  2021      1  \n",
       "4                            7  2021      1  "
      ]
     },
     "execution_count": 7,
     "metadata": {},
     "output_type": "execute_result"
    }
   ],
   "source": [
    "df = pd.read_csv('Monthly_Stat_Reports.csv')\n",
    "df.head()"
   ]
  },
  {
   "cell_type": "code",
   "execution_count": 16,
   "metadata": {
    "ExecuteTime": {
     "end_time": "2021-05-07T23:34:52.785013Z",
     "start_time": "2021-05-07T23:34:52.779339Z"
    }
   },
   "outputs": [
    {
     "data": {
      "text/plain": [
       "Index(['City', 'Townhouse-Condo Attached', 'Single-Family Detached',\n",
       "       'New Listings', 'Pending Sales', 'Closed Sales',\n",
       "       'Days on Market Until Sale', 'Median Sales Price',\n",
       "       'Average Sales Price', 'Percent of Original List Price Received',\n",
       "       'Inventory of Homes for Sale', 'Year', 'Month'],\n",
       "      dtype='object')"
      ]
     },
     "execution_count": 16,
     "metadata": {},
     "output_type": "execute_result"
    }
   ],
   "source": [
    "df.columns"
   ]
  },
  {
   "cell_type": "code",
   "execution_count": 18,
   "metadata": {
    "ExecuteTime": {
     "end_time": "2021-05-06T21:31:13.288543Z",
     "start_time": "2021-05-06T21:31:11.624331Z"
    }
   },
   "outputs": [
    {
     "data": {
      "text/plain": [
       "<AxesSubplot:xlabel='Year', ylabel='Median Sales Price'>"
      ]
     },
     "execution_count": 18,
     "metadata": {},
     "output_type": "execute_result"
    },
    {
     "data": {
      "image/png": "[encoded data removed]",
      "text/plain": [
       "<Figure size 1008x432 with 1 Axes>"
      ]
     },
     "metadata": {
      "needs_background": "light"
     },
     "output_type": "display_data"
    }
   ],
   "source": [
    "fig, ax = plt.subplots(figsize=(14, 6))\n",
    "\n",
    "df_city = df[df['City'] == 'Lafayette']\n",
    "\n",
    "sns.lineplot(x=df_city['Year'],\n",
    "             y=df_city['Median Sales Price'],\n",
    "             ax=ax,\n",
    "             hue=df_city['Townhouse-Condo Attached'])"
   ]
  },
  {
   "cell_type": "code",
   "execution_count": 20,
   "metadata": {
    "ExecuteTime": {
     "end_time": "2021-05-06T21:36:45.899900Z",
     "start_time": "2021-05-06T21:36:44.545525Z"
    }
   },
   "outputs": [
    {
     "data": {
      "text/plain": [
       "<AxesSubplot:xlabel='Year', ylabel='Days on Market Until Sale'>"
      ]
     },
     "execution_count": 20,
     "metadata": {},
     "output_type": "execute_result"
    },
    {
     "data": {
      "image/png": "[encoded data removed]",
      "text/plain": [
       "<Figure size 1008x432 with 1 Axes>"
      ]
     },
     "metadata": {
      "needs_background": "light"
     },
     "output_type": "display_data"
    }
   ],
   "source": [
    "fig, ax = plt.subplots(figsize=(14, 6))\n",
    "\n",
    "sns.lineplot(x=df_city['Year'],\n",
    "             y=df_city['Days on Market Until Sale'],\n",
    "             ax=ax,\n",
    "             hue=df_city['Townhouse-Condo Attached'])"
   ]
  },
  {
   "cell_type": "code",
   "execution_count": 34,
   "metadata": {
    "ExecuteTime": {
     "end_time": "2021-05-10T23:39:48.421858Z",
     "start_time": "2021-05-10T23:39:48.416525Z"
    }
   },
   "outputs": [
    {
     "data": {
      "text/plain": [
       "Index(['City', 'Townhouse-Condo Attached', 'Single-Family Detached',\n",
       "       'New Listings', 'Pending Sales', 'Closed Sales',\n",
       "       'Days on Market Until Sale', 'Median Sales Price',\n",
       "       'Average Sales Price', 'Percent of Original List Price Received',\n",
       "       'Inventory of Homes for Sale', 'Year', 'Month num', 'Month'],\n",
       "      dtype='object')"
      ]
     },
     "execution_count": 34,
     "metadata": {},
     "output_type": "execute_result"
    }
   ],
   "source": [
    "df.columns"
   ]
  },
  {
   "cell_type": "code",
   "execution_count": null,
   "metadata": {},
   "outputs": [],
   "source": []
  },
  {
   "cell_type": "code",
   "execution_count": null,
   "metadata": {},
   "outputs": [],
   "source": []
  },
  {
   "cell_type": "code",
   "execution_count": null,
   "metadata": {},
   "outputs": [],
   "source": []
  },
  {
   "cell_type": "code",
   "execution_count": null,
   "metadata": {},
   "outputs": [],
   "source": []
  },
  {
   "cell_type": "code",
   "execution_count": null,
   "metadata": {},
   "outputs": [],
   "source": []
  },
  {
   "cell_type": "code",
   "execution_count": null,
   "metadata": {},
   "outputs": [],
   "source": []
  },
  {
   "cell_type": "code",
   "execution_count": null,
   "metadata": {},
   "outputs": [],
   "source": []
  },
  {
   "cell_type": "code",
   "execution_count": null,
   "metadata": {},
   "outputs": [],
   "source": []
  },
  {
   "cell_type": "code",
   "execution_count": null,
   "metadata": {},
   "outputs": [],
   "source": []
  },
  {
   "cell_type": "code",
   "execution_count": null,
   "metadata": {},
   "outputs": [],
   "source": []
  },
  {
   "cell_type": "code",
   "execution_count": null,
   "metadata": {},
   "outputs": [],
   "source": []
  },
  {
   "cell_type": "code",
   "execution_count": null,
   "metadata": {},
   "outputs": [],
   "source": []
  },
  {
   "cell_type": "code",
   "execution_count": null,
   "metadata": {},
   "outputs": [],
   "source": []
  },
  {
   "cell_type": "code",
   "execution_count": null,
   "metadata": {},
   "outputs": [],
   "source": []
  }
 ],
 "metadata": {
  "kernelspec": {
   "display_name": "Python 3",
   "language": "python",
   "name": "python3"
  },
  "language_info": {
   "codemirror_mode": {
    "name": "ipython",
    "version": 3
   },
   "file_extension": ".py",
   "mimetype": "text/x-python",
   "name": "python",
   "nbconvert_exporter": "python",
   "pygments_lexer": "ipython3",
   "version": "3.7.7"
  },
  "toc": {
   "base_numbering": 1,
   "nav_menu": {},
   "number_sections": false,
   "sideBar": true,
   "skip_h1_title": false,
   "title_cell": "Table of Contents",
   "title_sidebar": "Contents",
   "toc_cell": false,
   "toc_position": {},
   "toc_section_display": true,
   "toc_window_display": false
  }
 },
 "nbformat": 4,
 "nbformat_minor": 4
}
