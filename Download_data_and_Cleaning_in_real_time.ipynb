{
 "cells": [
  {
   "cell_type": "code",
   "execution_count": 1,
   "metadata": {
    "ExecuteTime": {
     "end_time": "2021-05-18T01:01:03.414268Z",
     "start_time": "2021-05-18T01:01:03.021234Z"
    }
   },
   "outputs": [],
   "source": [
    "import pandas as pd\n",
    "import numpy as np\n",
    "\n",
    "from bs4 import BeautifulSoup\n",
    "import requests"
   ]
  },
  {
   "cell_type": "code",
   "execution_count": 33,
   "metadata": {
    "ExecuteTime": {
     "end_time": "2021-05-18T04:02:34.571320Z",
     "start_time": "2021-05-18T04:02:34.556134Z"
    }
   },
   "outputs": [
    {
     "data": {
      "text/html": [
       "<div>\n",
       "<style scoped>\n",
       "    .dataframe tbody tr th:only-of-type {\n",
       "        vertical-align: middle;\n",
       "    }\n",
       "\n",
       "    .dataframe tbody tr th {\n",
       "        vertical-align: top;\n",
       "    }\n",
       "\n",
       "    .dataframe thead th {\n",
       "        text-align: right;\n",
       "    }\n",
       "</style>\n",
       "<table border=\"1\" class=\"dataframe\">\n",
       "  <thead>\n",
       "    <tr style=\"text-align: right;\">\n",
       "      <th></th>\n",
       "      <th>city</th>\n",
       "      <th>code</th>\n",
       "      <th>page_type</th>\n",
       "    </tr>\n",
       "  </thead>\n",
       "  <tbody>\n",
       "    <tr>\n",
       "      <th>0</th>\n",
       "      <td>Alamo</td>\n",
       "      <td>4800</td>\n",
       "      <td>page</td>\n",
       "    </tr>\n",
       "    <tr>\n",
       "      <th>1</th>\n",
       "      <td>Blackhawk</td>\n",
       "      <td>4600</td>\n",
       "      <td>page</td>\n",
       "    </tr>\n",
       "    <tr>\n",
       "      <th>2</th>\n",
       "      <td>Clayton</td>\n",
       "      <td>5900</td>\n",
       "      <td>page</td>\n",
       "    </tr>\n",
       "    <tr>\n",
       "      <th>3</th>\n",
       "      <td>Concord</td>\n",
       "      <td>5701</td>\n",
       "      <td>page</td>\n",
       "    </tr>\n",
       "    <tr>\n",
       "      <th>4</th>\n",
       "      <td>Clyde</td>\n",
       "      <td>5702</td>\n",
       "      <td>page</td>\n",
       "    </tr>\n",
       "  </tbody>\n",
       "</table>\n",
       "</div>"
      ],
      "text/plain": [
       "        city  code page_type\n",
       "0      Alamo  4800      page\n",
       "1  Blackhawk  4600      page\n",
       "2    Clayton  5900      page\n",
       "3    Concord  5701      page\n",
       "4      Clyde  5702      page"
      ]
     },
     "execution_count": 33,
     "metadata": {},
     "output_type": "execute_result"
    }
   ],
   "source": [
    "city_codes_df = pd.read_csv('city_codes.csv')\n",
    "city_codes_df.head()"
   ]
  },
  {
   "cell_type": "code",
   "execution_count": 183,
   "metadata": {
    "ExecuteTime": {
     "end_time": "2021-05-19T20:04:12.704713Z",
     "start_time": "2021-05-19T20:04:12.685789Z"
    }
   },
   "outputs": [
    {
     "data": {
      "text/html": [
       "<div>\n",
       "<style scoped>\n",
       "    .dataframe tbody tr th:only-of-type {\n",
       "        vertical-align: middle;\n",
       "    }\n",
       "\n",
       "    .dataframe tbody tr th {\n",
       "        vertical-align: top;\n",
       "    }\n",
       "\n",
       "    .dataframe thead th {\n",
       "        text-align: right;\n",
       "    }\n",
       "</style>\n",
       "<table border=\"1\" class=\"dataframe\">\n",
       "  <thead>\n",
       "    <tr style=\"text-align: right;\">\n",
       "      <th></th>\n",
       "      <th>City</th>\n",
       "      <th>Townhouse-Condo Attached</th>\n",
       "      <th>Single-Family Detached</th>\n",
       "      <th>New Listings</th>\n",
       "      <th>Pending Sales</th>\n",
       "      <th>Closed Sales</th>\n",
       "      <th>Days on Market Until Sale</th>\n",
       "      <th>Median Sales Price</th>\n",
       "      <th>Average Sales Price</th>\n",
       "      <th>Percent of Original List Price Received</th>\n",
       "      <th>Inventory of Homes for Sale</th>\n",
       "      <th>Year</th>\n",
       "      <th>Month</th>\n",
       "      <th>Month_num</th>\n",
       "    </tr>\n",
       "  </thead>\n",
       "  <tbody>\n",
       "  </tbody>\n",
       "</table>\n",
       "</div>"
      ],
      "text/plain": [
       "Empty DataFrame\n",
       "Columns: [City, Townhouse-Condo Attached, Single-Family Detached, New Listings, Pending Sales, Closed Sales, Days on Market Until Sale, Median Sales Price, Average Sales Price, Percent of Original List Price Received, Inventory of Homes for Sale, Year, Month, Month_num]\n",
       "Index: []"
      ]
     },
     "execution_count": 183,
     "metadata": {},
     "output_type": "execute_result"
    }
   ],
   "source": [
    "columns = ['City', 'Townhouse-Condo Attached', 'Single-Family Detached', \n",
    "           'New Listings', 'Pending Sales',\n",
    "           'Closed Sales', 'Days on Market Until Sale', 'Median Sales Price',\n",
    "           'Average Sales Price', 'Percent of Original List Price Received',\n",
    "           'Inventory of Homes for Sale', 'Year', 'Month', 'Month_num']\n",
    "\n",
    "df = pd.DataFrame(columns=columns)\n",
    "df"
   ]
  },
  {
   "cell_type": "code",
   "execution_count": 83,
   "metadata": {
    "ExecuteTime": {
     "end_time": "2021-05-18T04:36:07.888216Z",
     "start_time": "2021-05-18T04:36:07.883102Z"
    }
   },
   "outputs": [],
   "source": [
    "months = {\n",
    "    '01': \"January\", \n",
    "    '02': \"February\", \n",
    "    '03': \"March\", \n",
    "    '04': \"April\", \n",
    "    '05': \"May\", \n",
    "    '06': \"June\",\n",
    "    '07': \"July\", \n",
    "    '08': \"August\", \n",
    "    '09': \"September\", \n",
    "    '10': \"October\", \n",
    "    '11': \"November\", \n",
    "    '12': \"December\"\n",
    "}"
   ]
  },
  {
   "cell_type": "code",
   "execution_count": 123,
   "metadata": {
    "ExecuteTime": {
     "end_time": "2021-05-18T23:36:42.889228Z",
     "start_time": "2021-05-18T23:36:42.885314Z"
    }
   },
   "outputs": [],
   "source": [
    "house_types = {0 : 'Single-Family Detached',\n",
    "               1 : 'Townhouse-Condo Attached'}"
   ]
  },
  {
   "cell_type": "code",
   "execution_count": 182,
   "metadata": {
    "ExecuteTime": {
     "end_time": "2021-05-19T20:04:09.689137Z",
     "start_time": "2021-05-19T20:04:09.671775Z"
    }
   },
   "outputs": [],
   "source": [
    "def loadCityData(city, city_codes_df, month, year):\n",
    "    '''\n",
    "    Download data from https://ccartoday.com/market-statistics/\n",
    "    INPUT:\n",
    "    city - srting\n",
    "    city_codes_df - pandas DataFrame\n",
    "    month - int, 1-12\n",
    "    year - int, 2011-2021\n",
    "    house_type - 0 if Single-Family Detached\n",
    "                 1 if Townhouse-Condo Attached\n",
    "    \n",
    "    OUTPUT:\n",
    "    single_df - pandas DataFrame\n",
    "    \n",
    "    '''\n",
    "    city_code = city_codes_df[city_codes_df['city'] == city].iloc[0,1]\n",
    "    page_type = city_codes_df[city_codes_df['city'] == city].iloc[0,2]\n",
    "    \n",
    "    central_stat_url = f\"http://main.ccartoday.com/index.php/{page_type}/area/{month}/{year}/{city_code}\"\n",
    "    \n",
    "    table_df = pd.read_html(central_stat_url)\n",
    "    single_df = table_df[0][1:].transpose()[:3]\n",
    "\n",
    "    single_df = single_df.rename(columns=single_df.iloc[0]).drop(single_df.index[0])\n",
    "\n",
    "    single_df['Single-Family Detached'] = 1\n",
    "    single_df['Townhouse-Condo Attached'] = 0\n",
    "\n",
    "    condo_df = table_df[1][1:].transpose()[:3]\n",
    "\n",
    "    condo_df = condo_df.rename(columns=condo_df.iloc[0]).drop(condo_df.index[0])\n",
    "\n",
    "    condo_df['Single-Family Detached'] = 0\n",
    "    condo_df['Townhouse-Condo Attached'] = 1\n",
    "    \n",
    "    single_df = single_df[1:]\n",
    "    condo_df = condo_df[1:]\n",
    "\n",
    "    single_df = pd.concat([single_df, condo_df], ignore_index=True)\n",
    "\n",
    "    single_df['City'] = city\n",
    "    single_df['Month_num'] = month\n",
    "    single_df['Month'] = months[month]\n",
    "    single_df['Year'] = year\n",
    "    single_df['Median'] = single_df['Median Sales Price'].apply(lambda x: x.replace('$', '') \\\n",
    "                                                                .replace(',', '')).astype('int32')\n",
    "    single_df['Average'] = single_df['Average Sales Price'].apply(lambda x: x.replace('$', '') \\\n",
    "                                                                  .replace(',', '')).astype('int32')\n",
    "    cols=['New Listings', 'Closed Sales', 'Days on Market Until Sale', 'Inventory of Homes for Sale']\n",
    "    single_df[cols] = single_df[cols].apply(pd.to_numeric, errors='coerce')\n",
    "    single_df['Percent of Original List Price Received'] = single_df['Percent of Original List Price Received'] \\\n",
    "                                                                    .apply(pd.to_numeric, errors='coerce')\n",
    "    return single_df"
   ]
  },
  {
   "cell_type": "code",
   "execution_count": 180,
   "metadata": {
    "ExecuteTime": {
     "end_time": "2021-05-19T20:03:39.670104Z",
     "start_time": "2021-05-19T20:03:39.663241Z"
    }
   },
   "outputs": [],
   "source": [
    "def loadYearAndMonthData(city, city_codes_df, month, year, df):\n",
    "    '''\n",
    "    Checking if city, month, year and house type combination exists in DataFrame.\n",
    "    If yes, return df without changing.\n",
    "    If no, add new row and return df.\n",
    "    \n",
    "    INPUT:\n",
    "    city - srting\n",
    "    city_codes_df - pandas DataFrame\n",
    "    month - int, 1-12\n",
    "    year - int, 2011-2021\n",
    "    house_type - 0 if Single-Family Detached\n",
    "                 1 if Townhouse-Condo Attached\n",
    "    \n",
    "    OUTPUT:\n",
    "    df - pandas DataFrame\n",
    "    \n",
    "    '''\n",
    "    a = np.array([city, month, year])\n",
    "    matches = df[(df[['City', 'Month_num', 'Year']] == a).all(axis=1)]\n",
    "    if matches.empty:\n",
    "        new_df = loadCityData(city, city_codes_df, month, year)\n",
    "        df = pd.concat([df, new_df], ignore_index=True)\n",
    "    return df"
   ]
  },
  {
   "cell_type": "code",
   "execution_count": 186,
   "metadata": {
    "ExecuteTime": {
     "end_time": "2021-05-19T20:04:24.771413Z",
     "start_time": "2021-05-19T20:04:24.122616Z"
    }
   },
   "outputs": [
    {
     "data": {
      "text/html": [
       "<div>\n",
       "<style scoped>\n",
       "    .dataframe tbody tr th:only-of-type {\n",
       "        vertical-align: middle;\n",
       "    }\n",
       "\n",
       "    .dataframe tbody tr th {\n",
       "        vertical-align: top;\n",
       "    }\n",
       "\n",
       "    .dataframe thead th {\n",
       "        text-align: right;\n",
       "    }\n",
       "</style>\n",
       "<table border=\"1\" class=\"dataframe\">\n",
       "  <thead>\n",
       "    <tr style=\"text-align: right;\">\n",
       "      <th></th>\n",
       "      <th>City</th>\n",
       "      <th>Townhouse-Condo Attached</th>\n",
       "      <th>Single-Family Detached</th>\n",
       "      <th>New Listings</th>\n",
       "      <th>Pending Sales</th>\n",
       "      <th>Closed Sales</th>\n",
       "      <th>Days on Market Until Sale</th>\n",
       "      <th>Median Sales Price</th>\n",
       "      <th>Average Sales Price</th>\n",
       "      <th>Percent of Original List Price Received</th>\n",
       "      <th>Inventory of Homes for Sale</th>\n",
       "      <th>Year</th>\n",
       "      <th>Month</th>\n",
       "      <th>Month_num</th>\n",
       "      <th>Median</th>\n",
       "      <th>Average</th>\n",
       "    </tr>\n",
       "  </thead>\n",
       "  <tbody>\n",
       "    <tr>\n",
       "      <th>0</th>\n",
       "      <td>Concord</td>\n",
       "      <td>0</td>\n",
       "      <td>1</td>\n",
       "      <td>93</td>\n",
       "      <td>NaN</td>\n",
       "      <td>63</td>\n",
       "      <td>13</td>\n",
       "      <td>$740,000</td>\n",
       "      <td>$755,697</td>\n",
       "      <td>105.29</td>\n",
       "      <td>39</td>\n",
       "      <td>2021</td>\n",
       "      <td>January</td>\n",
       "      <td>01</td>\n",
       "      <td>740000.0</td>\n",
       "      <td>755697.0</td>\n",
       "    </tr>\n",
       "    <tr>\n",
       "      <th>1</th>\n",
       "      <td>Concord</td>\n",
       "      <td>1</td>\n",
       "      <td>0</td>\n",
       "      <td>32</td>\n",
       "      <td>NaN</td>\n",
       "      <td>24</td>\n",
       "      <td>18</td>\n",
       "      <td>$352,500</td>\n",
       "      <td>$363,025</td>\n",
       "      <td>101.53</td>\n",
       "      <td>20</td>\n",
       "      <td>2021</td>\n",
       "      <td>January</td>\n",
       "      <td>01</td>\n",
       "      <td>352500.0</td>\n",
       "      <td>363025.0</td>\n",
       "    </tr>\n",
       "    <tr>\n",
       "      <th>2</th>\n",
       "      <td>Concord</td>\n",
       "      <td>0</td>\n",
       "      <td>1</td>\n",
       "      <td>86</td>\n",
       "      <td>NaN</td>\n",
       "      <td>77</td>\n",
       "      <td>19</td>\n",
       "      <td>$775,000</td>\n",
       "      <td>$778,033</td>\n",
       "      <td>106.52</td>\n",
       "      <td>53</td>\n",
       "      <td>2021</td>\n",
       "      <td>February</td>\n",
       "      <td>02</td>\n",
       "      <td>775000.0</td>\n",
       "      <td>778033.0</td>\n",
       "    </tr>\n",
       "    <tr>\n",
       "      <th>3</th>\n",
       "      <td>Concord</td>\n",
       "      <td>1</td>\n",
       "      <td>0</td>\n",
       "      <td>29</td>\n",
       "      <td>NaN</td>\n",
       "      <td>22</td>\n",
       "      <td>24</td>\n",
       "      <td>$358,375</td>\n",
       "      <td>$371,830</td>\n",
       "      <td>101.97</td>\n",
       "      <td>20</td>\n",
       "      <td>2021</td>\n",
       "      <td>February</td>\n",
       "      <td>02</td>\n",
       "      <td>358375.0</td>\n",
       "      <td>371830.0</td>\n",
       "    </tr>\n",
       "  </tbody>\n",
       "</table>\n",
       "</div>"
      ],
      "text/plain": [
       "      City Townhouse-Condo Attached Single-Family Detached New Listings  \\\n",
       "0  Concord                        0                      1           93   \n",
       "1  Concord                        1                      0           32   \n",
       "2  Concord                        0                      1           86   \n",
       "3  Concord                        1                      0           29   \n",
       "\n",
       "  Pending Sales Closed Sales Days on Market Until Sale Median Sales Price  \\\n",
       "0           NaN           63                        13           $740,000   \n",
       "1           NaN           24                        18           $352,500   \n",
       "2           NaN           77                        19           $775,000   \n",
       "3           NaN           22                        24           $358,375   \n",
       "\n",
       "  Average Sales Price  Percent of Original List Price Received  \\\n",
       "0            $755,697                                   105.29   \n",
       "1            $363,025                                   101.53   \n",
       "2            $778,033                                   106.52   \n",
       "3            $371,830                                   101.97   \n",
       "\n",
       "  Inventory of Homes for Sale  Year     Month Month_num    Median   Average  \n",
       "0                          39  2021   January        01  740000.0  755697.0  \n",
       "1                          20  2021   January        01  352500.0  363025.0  \n",
       "2                          53  2021  February        02  775000.0  778033.0  \n",
       "3                          20  2021  February        02  358375.0  371830.0  "
      ]
     },
     "execution_count": 186,
     "metadata": {},
     "output_type": "execute_result"
    }
   ],
   "source": [
    "df = loadYearAndMonthData('Concord', city_codes_df, '02', '2021', df)\n",
    "\n",
    "df"
   ]
  },
  {
   "cell_type": "code",
   "execution_count": 158,
   "metadata": {
    "ExecuteTime": {
     "end_time": "2021-05-19T19:56:33.256285Z",
     "start_time": "2021-05-19T19:56:33.246770Z"
    }
   },
   "outputs": [
    {
     "name": "stdout",
     "output_type": "stream",
     "text": [
      "False\n"
     ]
    }
   ],
   "source": [
    "a = np.array(['Concord', '01', '2021'])\n",
    "matches = df[(df[['City', 'Month_num', 'Year']] == a).all(axis=1)]\n",
    "print(matches.empty)"
   ]
  },
  {
   "cell_type": "code",
   "execution_count": null,
   "metadata": {},
   "outputs": [],
   "source": []
  },
  {
   "cell_type": "code",
   "execution_count": 122,
   "metadata": {
    "ExecuteTime": {
     "end_time": "2021-05-18T05:15:18.458260Z",
     "start_time": "2021-05-18T05:15:18.446258Z"
    }
   },
   "outputs": [
    {
     "data": {
      "text/html": [
       "<div>\n",
       "<style scoped>\n",
       "    .dataframe tbody tr th:only-of-type {\n",
       "        vertical-align: middle;\n",
       "    }\n",
       "\n",
       "    .dataframe tbody tr th {\n",
       "        vertical-align: top;\n",
       "    }\n",
       "\n",
       "    .dataframe thead th {\n",
       "        text-align: right;\n",
       "    }\n",
       "</style>\n",
       "<table border=\"1\" class=\"dataframe\">\n",
       "  <thead>\n",
       "    <tr style=\"text-align: right;\">\n",
       "      <th></th>\n",
       "      <th>City</th>\n",
       "      <th>Townhouse-Condo Attached</th>\n",
       "      <th>Single-Family Detached</th>\n",
       "      <th>New Listings</th>\n",
       "      <th>Pending Sales</th>\n",
       "      <th>Closed Sales</th>\n",
       "      <th>Days on Market Until Sale</th>\n",
       "      <th>Median Sales Price</th>\n",
       "      <th>Average Sales Price</th>\n",
       "      <th>Percent of Original List Price Received</th>\n",
       "      <th>Inventory of Homes for Sale</th>\n",
       "      <th>Year</th>\n",
       "      <th>Month</th>\n",
       "    </tr>\n",
       "  </thead>\n",
       "  <tbody>\n",
       "  </tbody>\n",
       "</table>\n",
       "</div>"
      ],
      "text/plain": [
       "Empty DataFrame\n",
       "Columns: [City, Townhouse-Condo Attached, Single-Family Detached, New Listings, Pending Sales, Closed Sales, Days on Market Until Sale, Median Sales Price, Average Sales Price, Percent of Original List Price Received, Inventory of Homes for Sale, Year, Month]\n",
       "Index: []"
      ]
     },
     "execution_count": 122,
     "metadata": {},
     "output_type": "execute_result"
    }
   ],
   "source": [
    "year = 2021\n",
    "\n",
    "# for month in range(1, 4):\n",
    "#     for city, city_code in central_city_codes_dict.items():\n",
    "#         df = createCentralStatdf('page', month, year, city, city_code, df)\n",
    "        \n",
    "#     for city, city_code in west_city_codes_dict.keys():\n",
    "#         df = createCentralStatdf('wccar', month, year, city, city_code, df)\n",
    "\n",
    "import threading\n",
    "\n",
    "threads = []\n",
    "result = {}\n",
    "for month in range(1, 12):\n",
    "    for city, city_code in central_city_codes_dict.items():\n",
    "        x = threading.Thread(target=createCentralStatdf, args=('page', month, year, city, city_code, result))\n",
    "        threads.append(x)\n",
    "        x.start()\n",
    "\n",
    "#     for city, city_code in west_city_codes_dict.items():\n",
    "#         x = threading.Thread(target=createCentralStatdf, args=('wccar', month, year, city, city_code, result))\n",
    "#         threads.append(x)\n",
    "#         x.start()\n",
    "\n",
    "for _, thread in enumerate(threads):\n",
    "    thread.join()\n",
    "\n",
    "for k,v in result.items():\n",
    "    df = pd.concat([df, v], ignore_index=True)"
   ]
  },
  {
   "cell_type": "code",
   "execution_count": null,
   "metadata": {
    "ExecuteTime": {
     "end_time": "2021-05-18T05:06:29.386891Z",
     "start_time": "2021-05-18T05:06:29.381178Z"
    }
   },
   "outputs": [],
   "source": [
    "# "
   ]
  },
  {
   "cell_type": "code",
   "execution_count": null,
   "metadata": {},
   "outputs": [],
   "source": []
  },
  {
   "cell_type": "code",
   "execution_count": null,
   "metadata": {},
   "outputs": [],
   "source": []
  },
  {
   "cell_type": "code",
   "execution_count": null,
   "metadata": {},
   "outputs": [],
   "source": []
  },
  {
   "cell_type": "code",
   "execution_count": null,
   "metadata": {},
   "outputs": [],
   "source": []
  },
  {
   "cell_type": "code",
   "execution_count": null,
   "metadata": {},
   "outputs": [],
   "source": []
  }
 ],
 "metadata": {
  "kernelspec": {
   "display_name": "Python 3",
   "language": "python",
   "name": "python3"
  },
  "language_info": {
   "codemirror_mode": {
    "name": "ipython",
    "version": 3
   },
   "file_extension": ".py",
   "mimetype": "text/x-python",
   "name": "python",
   "nbconvert_exporter": "python",
   "pygments_lexer": "ipython3",
   "version": "3.7.7"
  },
  "toc": {
   "base_numbering": 1,
   "nav_menu": {},
   "number_sections": false,
   "sideBar": true,
   "skip_h1_title": false,
   "title_cell": "Table of Contents",
   "title_sidebar": "Contents",
   "toc_cell": false,
   "toc_position": {},
   "toc_section_display": true,
   "toc_window_display": false
  }
 },
 "nbformat": 4,
 "nbformat_minor": 4
}
