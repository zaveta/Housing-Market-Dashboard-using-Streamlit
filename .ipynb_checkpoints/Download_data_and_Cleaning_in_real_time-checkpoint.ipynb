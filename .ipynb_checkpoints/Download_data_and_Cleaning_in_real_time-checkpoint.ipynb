{
 "cells": [
  {
   "cell_type": "code",
   "execution_count": 1,
   "metadata": {
    "ExecuteTime": {
     "end_time": "2021-05-18T01:01:03.414268Z",
     "start_time": "2021-05-18T01:01:03.021234Z"
    }
   },
   "outputs": [],
   "source": [
    "import pandas as pd\n",
    "import numpy as np\n",
    "\n",
    "from bs4 import BeautifulSoup\n",
    "import requests"
   ]
  },
  {
   "cell_type": "code",
   "execution_count": 33,
   "metadata": {
    "ExecuteTime": {
     "end_time": "2021-05-18T04:02:34.571320Z",
     "start_time": "2021-05-18T04:02:34.556134Z"
    }
   },
   "outputs": [
    {
     "data": {
      "text/html": [
       "<div>\n",
       "<style scoped>\n",
       "    .dataframe tbody tr th:only-of-type {\n",
       "        vertical-align: middle;\n",
       "    }\n",
       "\n",
       "    .dataframe tbody tr th {\n",
       "        vertical-align: top;\n",
       "    }\n",
       "\n",
       "    .dataframe thead th {\n",
       "        text-align: right;\n",
       "    }\n",
       "</style>\n",
       "<table border=\"1\" class=\"dataframe\">\n",
       "  <thead>\n",
       "    <tr style=\"text-align: right;\">\n",
       "      <th></th>\n",
       "      <th>city</th>\n",
       "      <th>code</th>\n",
       "      <th>page_type</th>\n",
       "    </tr>\n",
       "  </thead>\n",
       "  <tbody>\n",
       "    <tr>\n",
       "      <th>0</th>\n",
       "      <td>Alamo</td>\n",
       "      <td>4800</td>\n",
       "      <td>page</td>\n",
       "    </tr>\n",
       "    <tr>\n",
       "      <th>1</th>\n",
       "      <td>Blackhawk</td>\n",
       "      <td>4600</td>\n",
       "      <td>page</td>\n",
       "    </tr>\n",
       "    <tr>\n",
       "      <th>2</th>\n",
       "      <td>Clayton</td>\n",
       "      <td>5900</td>\n",
       "      <td>page</td>\n",
       "    </tr>\n",
       "    <tr>\n",
       "      <th>3</th>\n",
       "      <td>Concord</td>\n",
       "      <td>5701</td>\n",
       "      <td>page</td>\n",
       "    </tr>\n",
       "    <tr>\n",
       "      <th>4</th>\n",
       "      <td>Clyde</td>\n",
       "      <td>5702</td>\n",
       "      <td>page</td>\n",
       "    </tr>\n",
       "  </tbody>\n",
       "</table>\n",
       "</div>"
      ],
      "text/plain": [
       "        city  code page_type\n",
       "0      Alamo  4800      page\n",
       "1  Blackhawk  4600      page\n",
       "2    Clayton  5900      page\n",
       "3    Concord  5701      page\n",
       "4      Clyde  5702      page"
      ]
     },
     "execution_count": 33,
     "metadata": {},
     "output_type": "execute_result"
    }
   ],
   "source": [
    "city_codes_df = pd.read_csv('city_codes.csv')\n",
    "city_codes_df.head()"
   ]
  },
  {
   "cell_type": "code",
   "execution_count": 119,
   "metadata": {
    "ExecuteTime": {
     "end_time": "2021-05-18T05:14:50.526858Z",
     "start_time": "2021-05-18T05:14:50.510281Z"
    }
   },
   "outputs": [
    {
     "data": {
      "text/html": [
       "<div>\n",
       "<style scoped>\n",
       "    .dataframe tbody tr th:only-of-type {\n",
       "        vertical-align: middle;\n",
       "    }\n",
       "\n",
       "    .dataframe tbody tr th {\n",
       "        vertical-align: top;\n",
       "    }\n",
       "\n",
       "    .dataframe thead th {\n",
       "        text-align: right;\n",
       "    }\n",
       "</style>\n",
       "<table border=\"1\" class=\"dataframe\">\n",
       "  <thead>\n",
       "    <tr style=\"text-align: right;\">\n",
       "      <th></th>\n",
       "      <th>City</th>\n",
       "      <th>Townhouse-Condo Attached</th>\n",
       "      <th>Single-Family Detached</th>\n",
       "      <th>New Listings</th>\n",
       "      <th>Pending Sales</th>\n",
       "      <th>Closed Sales</th>\n",
       "      <th>Days on Market Until Sale</th>\n",
       "      <th>Median Sales Price</th>\n",
       "      <th>Average Sales Price</th>\n",
       "      <th>Percent of Original List Price Received</th>\n",
       "      <th>Inventory of Homes for Sale</th>\n",
       "      <th>Year</th>\n",
       "      <th>Month</th>\n",
       "    </tr>\n",
       "  </thead>\n",
       "  <tbody>\n",
       "  </tbody>\n",
       "</table>\n",
       "</div>"
      ],
      "text/plain": [
       "Empty DataFrame\n",
       "Columns: [City, Townhouse-Condo Attached, Single-Family Detached, New Listings, Pending Sales, Closed Sales, Days on Market Until Sale, Median Sales Price, Average Sales Price, Percent of Original List Price Received, Inventory of Homes for Sale, Year, Month]\n",
       "Index: []"
      ]
     },
     "execution_count": 119,
     "metadata": {},
     "output_type": "execute_result"
    }
   ],
   "source": [
    "columns = ['City', 'Townhouse-Condo Attached', 'Single-Family Detached', \n",
    "           'New Listings', 'Pending Sales',\n",
    "           'Closed Sales', 'Days on Market Until Sale', 'Median Sales Price',\n",
    "           'Average Sales Price', 'Percent of Original List Price Received',\n",
    "           'Inventory of Homes for Sale', 'Year', 'Month']\n",
    "\n",
    "df = pd.DataFrame(columns=columns)\n",
    "df"
   ]
  },
  {
   "cell_type": "code",
   "execution_count": 83,
   "metadata": {
    "ExecuteTime": {
     "end_time": "2021-05-18T04:36:07.888216Z",
     "start_time": "2021-05-18T04:36:07.883102Z"
    }
   },
   "outputs": [],
   "source": [
    "months = {\n",
    "    '01': \"January\", \n",
    "    '02': \"February\", \n",
    "    '03': \"March\", \n",
    "    '04': \"April\", \n",
    "    '05': \"May\", \n",
    "    '06': \"June\",\n",
    "    '07': \"July\", \n",
    "    '08': \"August\", \n",
    "    '09': \"September\", \n",
    "    '10': \"October\", \n",
    "    '11': \"November\", \n",
    "    '12': \"December\"\n",
    "}"
   ]
  },
  {
   "cell_type": "code",
   "execution_count": 121,
   "metadata": {
    "ExecuteTime": {
     "end_time": "2021-05-18T05:15:13.273605Z",
     "start_time": "2021-05-18T05:15:12.750092Z"
    }
   },
   "outputs": [
    {
     "data": {
      "text/html": [
       "<div>\n",
       "<style scoped>\n",
       "    .dataframe tbody tr th:only-of-type {\n",
       "        vertical-align: middle;\n",
       "    }\n",
       "\n",
       "    .dataframe tbody tr th {\n",
       "        vertical-align: top;\n",
       "    }\n",
       "\n",
       "    .dataframe thead th {\n",
       "        text-align: right;\n",
       "    }\n",
       "</style>\n",
       "<table border=\"1\" class=\"dataframe\">\n",
       "  <thead>\n",
       "    <tr style=\"text-align: right;\">\n",
       "      <th></th>\n",
       "      <th>Townhouse-Condo Attached</th>\n",
       "      <th>New Listings</th>\n",
       "      <th>Pending Sales</th>\n",
       "      <th>Closed Sales</th>\n",
       "      <th>Days on Market Until Sale</th>\n",
       "      <th>Median Sales Price</th>\n",
       "      <th>Average Sales Price</th>\n",
       "      <th>Percent of Original List Price Received</th>\n",
       "      <th>Inventory of Homes for Sale</th>\n",
       "      <th>Single-Family Detached</th>\n",
       "      <th>City</th>\n",
       "      <th>Month_num</th>\n",
       "      <th>Month</th>\n",
       "      <th>Year</th>\n",
       "      <th>Median</th>\n",
       "      <th>Average</th>\n",
       "    </tr>\n",
       "  </thead>\n",
       "  <tbody>\n",
       "    <tr>\n",
       "      <th>2</th>\n",
       "      <td>1</td>\n",
       "      <td>32</td>\n",
       "      <td>NaN</td>\n",
       "      <td>24</td>\n",
       "      <td>18</td>\n",
       "      <td>$352,500</td>\n",
       "      <td>$363,025</td>\n",
       "      <td>101.53</td>\n",
       "      <td>20</td>\n",
       "      <td>0</td>\n",
       "      <td>Concord</td>\n",
       "      <td>01</td>\n",
       "      <td>January</td>\n",
       "      <td>2021</td>\n",
       "      <td>352500</td>\n",
       "      <td>363025</td>\n",
       "    </tr>\n",
       "  </tbody>\n",
       "</table>\n",
       "</div>"
      ],
      "text/plain": [
       "   Townhouse-Condo Attached  New Listings Pending Sales  Closed Sales  \\\n",
       "2                         1            32           NaN            24   \n",
       "\n",
       "   Days on Market Until Sale Median Sales Price Average Sales Price  \\\n",
       "2                         18           $352,500            $363,025   \n",
       "\n",
       "   Percent of Original List Price Received  Inventory of Homes for Sale  \\\n",
       "2                                   101.53                           20   \n",
       "\n",
       "   Single-Family Detached     City Month_num    Month  Year  Median  Average  \n",
       "2                       0  Concord        01  January  2021  352500   363025  "
      ]
     },
     "execution_count": 121,
     "metadata": {},
     "output_type": "execute_result"
    }
   ],
   "source": [
    "def loadSityData(city, city_codes_df, month, year, house_type):\n",
    "    city_code = city_codes_df[city_codes_df['city'] == city].iloc[0,1]\n",
    "    page_type = city_codes_df[city_codes_df['city'] == city].iloc[0,2]\n",
    "    \n",
    "    central_stat_url = f\"http://main.ccartoday.com/index.php/{page_type}/area/{month}/{year}/{city_code}\"\n",
    "    \n",
    "    table_df = pd.read_html(central_stat_url)\n",
    "    \n",
    "    \n",
    "    single_df = table_df[house_type][1:].transpose()[:3]\n",
    "\n",
    "    single_df = single_df.rename(columns=single_df.iloc[0]).drop(single_df.index[0])\n",
    "    single_df = single_df[1:]\n",
    "    \n",
    "    if house_type == 0:\n",
    "        single_df['Single-Family Detached'] = 1\n",
    "        single_df['Townhouse-Condo Attached'] = 0\n",
    "    else:\n",
    "        single_df['Single-Family Detached'] = 0\n",
    "        single_df['Townhouse-Condo Attached'] = 1\n",
    "\n",
    "    single_df['City'] = city\n",
    "    single_df['Month_num'] = month\n",
    "    single_df['Month'] = months[month]\n",
    "    single_df['Year'] = year\n",
    "    single_df['Median'] = single_df['Median Sales Price'].apply(lambda x: x.replace('$', '') \\\n",
    "                                                                .replace(',', '')).astype('int32')\n",
    "    single_df['Average'] = single_df['Average Sales Price'].apply(lambda x: x.replace('$', '') \\\n",
    "                                                                  .replace(',', '')).astype('int32')\n",
    "    cols=['New Listings', 'Closed Sales', 'Days on Market Until Sale', 'Inventory of Homes for Sale']\n",
    "    single_df[cols] = single_df[cols].apply(pd.to_numeric, errors='coerce')\n",
    "    single_df['Percent of Original List Price Received'] = single_df['Percent of Original List Price Received'] \\\n",
    "                                                                    .apply(pd.to_numeric, errors='coerce')\n",
    "    return single_df\n",
    "\n",
    "new_df = loadSityData('Concord', city_codes_df, '01', '2021', 1)\n",
    "new_df.head()"
   ]
  },
  {
   "cell_type": "code",
   "execution_count": 122,
   "metadata": {
    "ExecuteTime": {
     "end_time": "2021-05-18T05:15:18.458260Z",
     "start_time": "2021-05-18T05:15:18.446258Z"
    }
   },
   "outputs": [
    {
     "data": {
      "text/html": [
       "<div>\n",
       "<style scoped>\n",
       "    .dataframe tbody tr th:only-of-type {\n",
       "        vertical-align: middle;\n",
       "    }\n",
       "\n",
       "    .dataframe tbody tr th {\n",
       "        vertical-align: top;\n",
       "    }\n",
       "\n",
       "    .dataframe thead th {\n",
       "        text-align: right;\n",
       "    }\n",
       "</style>\n",
       "<table border=\"1\" class=\"dataframe\">\n",
       "  <thead>\n",
       "    <tr style=\"text-align: right;\">\n",
       "      <th></th>\n",
       "      <th>City</th>\n",
       "      <th>Townhouse-Condo Attached</th>\n",
       "      <th>Single-Family Detached</th>\n",
       "      <th>New Listings</th>\n",
       "      <th>Pending Sales</th>\n",
       "      <th>Closed Sales</th>\n",
       "      <th>Days on Market Until Sale</th>\n",
       "      <th>Median Sales Price</th>\n",
       "      <th>Average Sales Price</th>\n",
       "      <th>Percent of Original List Price Received</th>\n",
       "      <th>Inventory of Homes for Sale</th>\n",
       "      <th>Year</th>\n",
       "      <th>Month</th>\n",
       "    </tr>\n",
       "  </thead>\n",
       "  <tbody>\n",
       "  </tbody>\n",
       "</table>\n",
       "</div>"
      ],
      "text/plain": [
       "Empty DataFrame\n",
       "Columns: [City, Townhouse-Condo Attached, Single-Family Detached, New Listings, Pending Sales, Closed Sales, Days on Market Until Sale, Median Sales Price, Average Sales Price, Percent of Original List Price Received, Inventory of Homes for Sale, Year, Month]\n",
       "Index: []"
      ]
     },
     "execution_count": 122,
     "metadata": {},
     "output_type": "execute_result"
    }
   ],
   "source": [
    "df"
   ]
  },
  {
   "cell_type": "code",
   "execution_count": null,
   "metadata": {
    "ExecuteTime": {
     "end_time": "2021-05-18T05:06:29.386891Z",
     "start_time": "2021-05-18T05:06:29.381178Z"
    }
   },
   "outputs": [],
   "source": [
    "# "
   ]
  },
  {
   "cell_type": "code",
   "execution_count": null,
   "metadata": {},
   "outputs": [],
   "source": []
  },
  {
   "cell_type": "code",
   "execution_count": null,
   "metadata": {},
   "outputs": [],
   "source": []
  },
  {
   "cell_type": "code",
   "execution_count": null,
   "metadata": {},
   "outputs": [],
   "source": []
  },
  {
   "cell_type": "code",
   "execution_count": null,
   "metadata": {},
   "outputs": [],
   "source": []
  },
  {
   "cell_type": "code",
   "execution_count": null,
   "metadata": {},
   "outputs": [],
   "source": []
  }
 ],
 "metadata": {
  "kernelspec": {
   "display_name": "Python 3",
   "language": "python",
   "name": "python3"
  },
  "language_info": {
   "codemirror_mode": {
    "name": "ipython",
    "version": 3
   },
   "file_extension": ".py",
   "mimetype": "text/x-python",
   "name": "python",
   "nbconvert_exporter": "python",
   "pygments_lexer": "ipython3",
   "version": "3.7.7"
  },
  "toc": {
   "base_numbering": 1,
   "nav_menu": {},
   "number_sections": false,
   "sideBar": true,
   "skip_h1_title": false,
   "title_cell": "Table of Contents",
   "title_sidebar": "Contents",
   "toc_cell": false,
   "toc_position": {},
   "toc_section_display": true,
   "toc_window_display": false
  }
 },
 "nbformat": 4,
 "nbformat_minor": 4
}
